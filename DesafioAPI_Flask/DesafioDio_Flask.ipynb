{
  "cells": [
    {
      "cell_type": "code",
      "execution_count": 1,
      "metadata": {
        "colab": {
          "base_uri": "https://localhost:8080/"
        },
        "id": "KKWDrek71sGt",
        "outputId": "f6b146b0-010e-422d-afd8-a6ed187ab5ca"
      },
      "outputs": [
        {
          "name": "stdout",
          "output_type": "stream",
          "text": [
            "Requirement already satisfied: flask in /usr/local/lib/python3.10/dist-packages (2.2.5)\n",
            "Requirement already satisfied: Werkzeug>=2.2.2 in /usr/local/lib/python3.10/dist-packages (from flask) (3.0.3)\n",
            "Requirement already satisfied: Jinja2>=3.0 in /usr/local/lib/python3.10/dist-packages (from flask) (3.1.4)\n",
            "Requirement already satisfied: itsdangerous>=2.0 in /usr/local/lib/python3.10/dist-packages (from flask) (2.2.0)\n",
            "Requirement already satisfied: click>=8.0 in /usr/local/lib/python3.10/dist-packages (from flask) (8.1.7)\n",
            "Requirement already satisfied: MarkupSafe>=2.0 in /usr/local/lib/python3.10/dist-packages (from Jinja2>=3.0->flask) (2.1.5)\n",
            "Collecting flask_ngrok\n",
            "  Downloading flask_ngrok-0.0.25-py3-none-any.whl (3.1 kB)\n",
            "Requirement already satisfied: Flask>=0.8 in /usr/local/lib/python3.10/dist-packages (from flask_ngrok) (2.2.5)\n",
            "Requirement already satisfied: requests in /usr/local/lib/python3.10/dist-packages (from flask_ngrok) (2.31.0)\n",
            "Requirement already satisfied: Werkzeug>=2.2.2 in /usr/local/lib/python3.10/dist-packages (from Flask>=0.8->flask_ngrok) (3.0.3)\n",
            "Requirement already satisfied: Jinja2>=3.0 in /usr/local/lib/python3.10/dist-packages (from Flask>=0.8->flask_ngrok) (3.1.4)\n",
            "Requirement already satisfied: itsdangerous>=2.0 in /usr/local/lib/python3.10/dist-packages (from Flask>=0.8->flask_ngrok) (2.2.0)\n",
            "Requirement already satisfied: click>=8.0 in /usr/local/lib/python3.10/dist-packages (from Flask>=0.8->flask_ngrok) (8.1.7)\n",
            "Requirement already satisfied: charset-normalizer<4,>=2 in /usr/local/lib/python3.10/dist-packages (from requests->flask_ngrok) (3.3.2)\n",
            "Requirement already satisfied: idna<4,>=2.5 in /usr/local/lib/python3.10/dist-packages (from requests->flask_ngrok) (3.7)\n",
            "Requirement already satisfied: urllib3<3,>=1.21.1 in /usr/local/lib/python3.10/dist-packages (from requests->flask_ngrok) (2.0.7)\n",
            "Requirement already satisfied: certifi>=2017.4.17 in /usr/local/lib/python3.10/dist-packages (from requests->flask_ngrok) (2024.6.2)\n",
            "Requirement already satisfied: MarkupSafe>=2.0 in /usr/local/lib/python3.10/dist-packages (from Jinja2>=3.0->Flask>=0.8->flask_ngrok) (2.1.5)\n",
            "Installing collected packages: flask_ngrok\n",
            "Successfully installed flask_ngrok-0.0.25\n",
            "Collecting pyngrok\n",
            "  Downloading pyngrok-7.1.6-py3-none-any.whl (22 kB)\n",
            "Requirement already satisfied: PyYAML>=5.1 in /usr/local/lib/python3.10/dist-packages (from pyngrok) (6.0.1)\n",
            "Installing collected packages: pyngrok\n",
            "Successfully installed pyngrok-7.1.6\n"
          ]
        }
      ],
      "source": [
        "!pip install flask\n",
        "!pip install flask_ngrok\n",
        "!pip install pyngrok"
      ]
    },
    {
      "cell_type": "code",
      "execution_count": 11,
      "metadata": {
        "colab": {
          "base_uri": "https://localhost:8080/"
        },
        "id": "mBz5VzZb1vIC",
        "outputId": "141c0c7e-2851-428f-a23b-7dfb45d51b16"
      },
      "outputs": [
        {
          "name": "stdout",
          "output_type": "stream",
          "text": [
            "Authtoken saved to configuration file: /root/.config/ngrok/ngrok.yml\n"
          ]
        }
      ],
      "source": [
        "!ngrok authtoken 2i8vpnMv0ZOkrK3kSqh55Hg2e54_2Udnf61KZPVSyNtPkkG2v"
      ]
    },
    {
      "cell_type": "code",
      "execution_count": 12,
      "metadata": {
        "colab": {
          "base_uri": "https://localhost:8080/"
        },
        "id": "DtoaKV521wm9",
        "outputId": "71b7687b-a9a7-4beb-b4cf-08f64862718e"
      },
      "outputs": [
        {
          "name": "stdout",
          "output_type": "stream",
          "text": [
            "Traceback (most recent call last):\n",
            "  File \"/usr/lib/python3.10/subprocess.py\", line 1209, in wait\n",
            "    return self._wait(timeout=timeout)\n",
            "  File \"/usr/lib/python3.10/subprocess.py\", line 1959, in _wait\n",
            "    (pid, sts) = self._try_wait(0)\n",
            "  File \"/usr/lib/python3.10/subprocess.py\", line 1917, in _try_wait\n",
            "    (pid, sts) = os.waitpid(self.pid, wait_flags)\n",
            "KeyboardInterrupt\n",
            "\n",
            "During handling of the above exception, another exception occurred:\n",
            "\n",
            "Traceback (most recent call last):\n",
            "  File \"/usr/local/bin/ngrok\", line 8, in <module>\n",
            "    sys.exit(main())\n",
            "  File \"/usr/local/lib/python3.10/dist-packages/pyngrok/ngrok.py\", line 578, in main\n",
            "    run(sys.argv[1:])\n",
            "  File \"/usr/local/lib/python3.10/dist-packages/pyngrok/ngrok.py\", line 566, in run\n",
            "    process.run_process(pyngrok_config.ngrok_path, args)\n",
            "  File \"/usr/local/lib/python3.10/dist-packages/pyngrok/process.py\", line 276, in run_process\n",
            "    subprocess.call(start)\n",
            "  File \"/usr/lib/python3.10/subprocess.py\", line 347, in call\n",
            "    return p.wait(timeout=timeout)\n",
            "  File \"/usr/lib/python3.10/subprocess.py\", line 1222, in wait\n",
            "    self._wait(timeout=sigint_timeout)\n",
            "  File \"/usr/lib/python3.10/subprocess.py\", line 1953, in _wait\n",
            "    time.sleep(delay)\n",
            "KeyboardInterrupt\n",
            "^C\n"
          ]
        }
      ],
      "source": [
        "!ngrok http 8080"
      ]
    },
    {
      "cell_type": "code",
      "execution_count": 13,
      "metadata": {
        "id": "RGFmhyu21zVA"
      },
      "outputs": [],
      "source": [
        "from flask_ngrok import run_with_ngrok\n",
        "from flask import *\n",
        "from pyngrok import ngrok\n",
        "import random as rk"
      ]
    },
    {
      "cell_type": "code",
      "execution_count": 14,
      "metadata": {
        "id": "OXwJZAsv11LX"
      },
      "outputs": [],
      "source": [
        "app = Flask(__name__)\n",
        "run_with_ngrok(app)"
      ]
    },
    {
      "cell_type": "code",
      "execution_count": 15,
      "metadata": {
        "id": "nj_Ka4Fl3kKi"
      },
      "outputs": [],
      "source": [
        "planilha = [{\n",
        "    \"Number\": \"1\",\n",
        "    \"Name\": \"Mahesh\",\n",
        "    \"Age\": \"25\",\n",
        "    \"City\": \"Bangalore\",\n",
        "    \"Country\": \"India\",\n",
        "    },\n",
        "    {\n",
        "    \"Number\": \"2\",\n",
        "    \"Name\": \"Alex\",\n",
        "    \"Age\": \"26\",\n",
        "    \"City\": \"London\",\n",
        "    \"Country\": \"UK\",\n",
        "    },\n",
        "    {\n",
        "    \"Number\": \"3\",\n",
        "    \"Name\": \"David\",\n",
        "    \"Age\": \"27\",\n",
        "    \"City\": \"San Francisco\",\n",
        "    \"Country\": \"USA\",\n",
        "    },\n",
        "    {\n",
        "    \"Number\": \"4\",\n",
        "    \"Name\": \"John\",\n",
        "    \"Age\": \"28\",\n",
        "    \"City\": \"Toronto\",\n",
        "    \"Country\": \"Canada\",\n",
        "    },\n",
        "    {\n",
        "    \"Number\": \"5\",\n",
        "    \"Name\": \"Chris\",\n",
        "    \"Age\": \"29\",\n",
        "    \"City\": \"Paris\",\n",
        "    \"Country\": \"France\",\n",
        "    }]"
      ]
    },
    {
      "cell_type": "code",
      "execution_count": 16,
      "metadata": {
        "colab": {
          "base_uri": "https://localhost:8080/"
        },
        "id": "FUW97ixx12c1",
        "outputId": "1057fdae-c5b1-4547-c3cf-b9583ada7179"
      },
      "outputs": [
        {
          "name": "stdout",
          "output_type": "stream",
          "text": [
            "Public URL: https://f6aa-34-105-56-70.ngrok-free.app/\n"
          ]
        }
      ],
      "source": [
        "NGROK_AUTHTOKEN = \"2i8vpnMv0ZOkrK3kSqh55Hg2e54_2Udnf61KZPVSyNtPkkG2v\"\n",
        "ngrok.set_auth_token(NGROK_AUTHTOKEN)\n",
        "\n",
        "app_port = 8080\n",
        "ngrok_tunnel = ngrok.connect(app_port)\n",
        "print(f\"Public URL: {ngrok_tunnel.public_url}/\")"
      ]
    },
    {
      "cell_type": "code",
      "execution_count": 17,
      "metadata": {
        "colab": {
          "base_uri": "https://localhost:8080/"
        },
        "id": "m0MCB3Eg14gU",
        "outputId": "1da93c0e-4d0a-4182-db84-154788c6fdf6"
      },
      "outputs": [
        {
          "name": "stdout",
          "output_type": "stream",
          "text": [
            " * Serving Flask app '__main__'\n",
            " * Debug mode: off\n"
          ]
        },
        {
          "name": "stderr",
          "output_type": "stream",
          "text": [
            "INFO:werkzeug:\u001b[31m\u001b[1mWARNING: This is a development server. Do not use it in a production deployment. Use a production WSGI server instead.\u001b[0m\n",
            " * Running on http://127.0.0.1:5000\n",
            "INFO:werkzeug:\u001b[33mPress CTRL+C to quit\u001b[0m\n"
          ]
        },
        {
          "name": "stdout",
          "output_type": "stream",
          "text": [
            " * Running on http://f6aa-34-105-56-70.ngrok-free.app\n",
            " * Traffic stats available on http://127.0.0.1:4040\n"
          ]
        },
        {
          "name": "stderr",
          "output_type": "stream",
          "text": [
            "WARNING:pyngrok.process.ngrok:t=2024-06-20T13:44:06+0000 lvl=warn msg=\"Stopping forwarder\" name=http-8080-ca934f16-f443-4dac-b7c3-f8272f7ca1cd acceptErr=\"failed to accept connection: Listener closed\"\n"
          ]
        }
      ],
      "source": [
        "app_port = 8081\n",
        "\n",
        "@app.route(\"/\")\n",
        "def home():\n",
        "    return \"TO CHECK IN PUT ADD '/input' TO THE URL AND TO CHECK OUT PUT ADD '/output' TO THE URL.\"\n",
        "\n",
        "@app.route(\"/input\")\n",
        "def input():\n",
        "  return jsonify(planilha)\n",
        "\n",
        "@app.route(\"/output\", methods=['GET', 'POST'])\n",
        "def predJson():\n",
        "  pred = rk.choice([\"positive\", \"negative\"])\n",
        "  nd = planilha\n",
        "  nd[\"prediction\"] = pred\n",
        "  return jsonify(nd)\n",
        "\n",
        "app.run()\n",
        "\n"
      ]
    }
  ],
  "metadata": {
    "colab": {
      "provenance": []
    },
    "kernelspec": {
      "display_name": "Python 3",
      "name": "python3"
    },
    "language_info": {
      "name": "python"
    }
  },
  "nbformat": 4,
  "nbformat_minor": 0
}
